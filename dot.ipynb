{
 "cells": [
  {
   "cell_type": "code",
   "execution_count": 1,
   "id": "cf62c046",
   "metadata": {},
   "outputs": [
    {
     "name": "stdout",
     "output_type": "stream",
     "text": [
      "Defaulting to user installation because normal site-packages is not writeable\n",
      "Requirement already satisfied: opencv-python in c:\\users\\danny\\appdata\\roaming\\python\\python310\\site-packages (4.11.0.86)\n",
      "Requirement already satisfied: numpy in c:\\users\\danny\\appdata\\roaming\\python\\python310\\site-packages (1.23.5)\n",
      "Requirement already satisfied: pyaudio in c:\\users\\danny\\appdata\\roaming\\python\\python310\\site-packages (0.2.14)\n"
     ]
    },
    {
     "name": "stderr",
     "output_type": "stream",
     "text": [
      "WARNING: Ignoring invalid distribution -umpy (d:\\programdata\\anaconda3\\lib\\site-packages)\n",
      "WARNING: Ignoring invalid distribution -umpy (d:\\programdata\\anaconda3\\lib\\site-packages)\n",
      "\n",
      "[notice] A new release of pip is available: 24.3.1 -> 25.1.1\n",
      "[notice] To update, run: python.exe -m pip install --upgrade pip\n"
     ]
    }
   ],
   "source": [
    "# Install required packages\n",
    "!pip install opencv-python numpy pyaudio"
   ]
  },
  {
   "cell_type": "code",
   "execution_count": 2,
   "id": "2ceccba0",
   "metadata": {},
   "outputs": [
    {
     "name": "stdout",
     "output_type": "stream",
     "text": [
      "Configuration loaded successfully!\n"
     ]
    }
   ],
   "source": [
    "import cv2\n",
    "import numpy as np\n",
    "import threading\n",
    "import time\n",
    "import pyaudio\n",
    "import math\n",
    "import wave\n",
    "\n",
    "# Video parameters\n",
    "WIDTH = 800\n",
    "HEIGHT = 400\n",
    "FPS = 30\n",
    "DURATION = 10  # seconds\n",
    "TOTAL_FRAMES = FPS * DURATION\n",
    "\n",
    "# Audio parameters\n",
    "SAMPLE_RATE = 44100\n",
    "FREQUENCY = 440  # Hz (A4 note)\n",
    "CHUNK_SIZE = 1024\n",
    "\n",
    "# Dot parameters\n",
    "DOT_RADIUS = 20\n",
    "DOT_COLOR = (0, 255, 0)  # Green\n",
    "\n",
    "print(\"Configuration loaded successfully!\")"
   ]
  },
  {
   "cell_type": "code",
   "execution_count": 3,
   "id": "6eb99d7a",
   "metadata": {},
   "outputs": [
    {
     "name": "stdout",
     "output_type": "stream",
     "text": [
      "AudioGenerator class created successfully!\n"
     ]
    }
   ],
   "source": [
    "class AudioGenerator:\n",
    "    def __init__(self):\n",
    "        self.audio = pyaudio.PyAudio()\n",
    "        self.stream = None\n",
    "        self.running = False\n",
    "        self.dot_position = 0.5  # 0.0 = left, 1.0 = right\n",
    "        \n",
    "    def start_audio(self):\n",
    "        self.stream = self.audio.open(\n",
    "            format=pyaudio.paFloat32,\n",
    "            channels=2,  # Stereo\n",
    "            rate=SAMPLE_RATE,\n",
    "            output=True,\n",
    "            frames_per_buffer=CHUNK_SIZE\n",
    "        )\n",
    "        self.running = True\n",
    "        \n",
    "    def generate_audio_chunk(self):\n",
    "        frames = np.arange(CHUNK_SIZE)\n",
    "        wave = np.sin(2 * np.pi * FREQUENCY * frames / SAMPLE_RATE)\n",
    "        \n",
    "        # Calculate stereo panning\n",
    "        left_volume = 1.0 - self.dot_position\n",
    "        right_volume = self.dot_position\n",
    "        \n",
    "        # Create stereo audio\n",
    "        left_channel = wave * left_volume * 0.3  # Reduce volume\n",
    "        right_channel = wave * right_volume * 0.3\n",
    "        \n",
    "        # Interleave stereo channels\n",
    "        stereo_audio = np.column_stack((left_channel, right_channel))\n",
    "        return stereo_audio.astype(np.float32)\n",
    "        \n",
    "    def update_position(self, position):\n",
    "        self.dot_position = position\n",
    "        \n",
    "    def play_audio(self):\n",
    "        while self.running:\n",
    "            audio_chunk = self.generate_audio_chunk()\n",
    "            self.stream.write(audio_chunk.tobytes())\n",
    "            \n",
    "    def stop_audio(self):\n",
    "        self.running = False\n",
    "        if self.stream:\n",
    "            self.stream.stop_stream()\n",
    "            self.stream.close()\n",
    "        self.audio.terminate()\n",
    "\n",
    "print(\"AudioGenerator class created successfully!\")"
   ]
  },
  {
   "cell_type": "code",
   "execution_count": 4,
   "id": "3e04e9e9",
   "metadata": {},
   "outputs": [
    {
     "name": "stdout",
     "output_type": "stream",
     "text": [
      "Video generation function created!\n"
     ]
    }
   ],
   "source": [
    "def create_video_with_audio():\n",
    "    \"\"\"Generate video file with moving dot and synchronized stereo audio\"\"\"\n",
    "    # Initialize video writer\n",
    "    fourcc = cv2.VideoWriter_fourcc(*'mp4v')\n",
    "    video_writer = cv2.VideoWriter('moving_dot.mp4', fourcc, FPS, (WIDTH, HEIGHT))\n",
    "    \n",
    "    # Initialize audio\n",
    "    audio_gen = AudioGenerator()\n",
    "    audio_gen.start_audio()\n",
    "    \n",
    "    # Start audio thread\n",
    "    audio_thread = threading.Thread(target=audio_gen.play_audio)\n",
    "    audio_thread.daemon = True\n",
    "    audio_thread.start()\n",
    "    \n",
    "    print(\"Generating video with stereo audio...\")\n",
    "    \n",
    "    for frame_num in range(TOTAL_FRAMES):\n",
    "        # Calculate dot position (oscillating from left to right)\n",
    "        t = frame_num / TOTAL_FRAMES\n",
    "        dot_x = int((math.sin(2 * math.pi * t * 2) + 1) / 2 * (WIDTH - 2 * DOT_RADIUS) + DOT_RADIUS)\n",
    "        dot_y = HEIGHT // 2\n",
    "        \n",
    "        # Update audio panning based on dot position\n",
    "        audio_position = (dot_x - DOT_RADIUS) / (WIDTH - 2 * DOT_RADIUS)\n",
    "        audio_gen.update_position(audio_position)\n",
    "        \n",
    "        # Create frame\n",
    "        frame = np.zeros((HEIGHT, WIDTH, 3), dtype=np.uint8)\n",
    "        cv2.circle(frame, (dot_x, dot_y), DOT_RADIUS, DOT_COLOR, -1)\n",
    "        \n",
    "        # Add position indicator\n",
    "        cv2.putText(frame, f\"Position: {audio_position:.2f}\", (10, 30), \n",
    "                   cv2.FONT_HERSHEY_SIMPLEX, 1, (255, 255, 255), 2)\n",
    "        \n",
    "        # Write frame\n",
    "        video_writer.write(frame)\n",
    "        \n",
    "        # Display frame (optional)\n",
    "        cv2.imshow('Moving Dot', frame)\n",
    "        if cv2.waitKey(1) & 0xFF == ord('q'):\n",
    "            break\n",
    "            \n",
    "        # Control frame rate\n",
    "        time.sleep(1/FPS)\n",
    "    \n",
    "    # Cleanup\n",
    "    audio_gen.stop_audio()\n",
    "    video_writer.release()\n",
    "    cv2.destroyAllWindows()\n",
    "    \n",
    "    print(\"Video saved as 'moving_dot.mp4'\")\n",
    "\n",
    "print(\"Video generation function created!\")"
   ]
  },
  {
   "cell_type": "code",
   "execution_count": 5,
   "id": "1797b4cf",
   "metadata": {},
   "outputs": [
    {
     "name": "stdout",
     "output_type": "stream",
     "text": [
      "Real-time demo function created!\n"
     ]
    }
   ],
   "source": [
    "def play_realtime_demo():\n",
    "    \"\"\"Play the dot movement with real-time audio (no video recording)\"\"\"\n",
    "    audio_gen = AudioGenerator()\n",
    "    audio_gen.start_audio()\n",
    "    \n",
    "    # Start audio thread\n",
    "    audio_thread = threading.Thread(target=audio_gen.play_audio)\n",
    "    audio_thread.daemon = True\n",
    "    audio_thread.start()\n",
    "    \n",
    "    print(\"Playing real-time demo. Press 'q' to quit.\")\n",
    "    \n",
    "    start_time = time.time()\n",
    "    \n",
    "    while True:\n",
    "        current_time = time.time() - start_time\n",
    "        \n",
    "        # Calculate dot position\n",
    "        t = current_time / DURATION\n",
    "        dot_x = int((math.sin(2 * math.pi * t * 2) + 1) / 2 * (WIDTH - 2 * DOT_RADIUS) + DOT_RADIUS)\n",
    "        dot_y = HEIGHT // 2\n",
    "        \n",
    "        # Update audio panning\n",
    "        audio_position = (dot_x - DOT_RADIUS) / (WIDTH - 2 * DOT_RADIUS)\n",
    "        audio_gen.update_position(audio_position)\n",
    "        \n",
    "        # Create frame\n",
    "        frame = np.zeros((HEIGHT, WIDTH, 3), dtype=np.uint8)\n",
    "        cv2.circle(frame, (dot_x, dot_y), DOT_RADIUS, DOT_COLOR, -1)\n",
    "        \n",
    "        # Add indicators\n",
    "        cv2.putText(frame, f\"Audio Position: {audio_position:.2f}\", (10, 30), \n",
    "                   cv2.FONT_HERSHEY_SIMPLEX, 1, (255, 255, 255), 2)\n",
    "        cv2.putText(frame, \"Press 'q' to quit\", (10, HEIGHT - 20), \n",
    "                   cv2.FONT_HERSHEY_SIMPLEX, 0.7, (255, 255, 255), 2)\n",
    "        \n",
    "        # Display frame\n",
    "        cv2.imshow('Moving Dot with Stereo Audio', frame)\n",
    "        \n",
    "        if cv2.waitKey(1) & 0xFF == ord('q'):\n",
    "            break\n",
    "            \n",
    "        time.sleep(1/FPS)\n",
    "    \n",
    "    # Cleanup\n",
    "    audio_gen.stop_audio()\n",
    "    cv2.destroyAllWindows()\n",
    "\n",
    "print(\"Real-time demo function created!\")"
   ]
  },
  {
   "cell_type": "code",
   "execution_count": 6,
   "id": "5f023729",
   "metadata": {},
   "outputs": [
    {
     "name": "stdout",
     "output_type": "stream",
     "text": [
      "Playing real-time demo. Press 'q' to quit.\n"
     ]
    }
   ],
   "source": [
    "# Choose what to run:\n",
    "# Uncomment one of the following lines:\n",
    "\n",
    "# For real-time demo with audio (recommended to test first):\n",
    "play_realtime_demo()\n",
    "\n",
    "# For generating a video file:\n",
    "# create_video_with_audio()"
   ]
  }
 ],
 "metadata": {
  "kernelspec": {
   "display_name": "base",
   "language": "python",
   "name": "python3"
  },
  "language_info": {
   "codemirror_mode": {
    "name": "ipython",
    "version": 3
   },
   "file_extension": ".py",
   "mimetype": "text/x-python",
   "name": "python",
   "nbconvert_exporter": "python",
   "pygments_lexer": "ipython3",
   "version": "3.10.9"
  }
 },
 "nbformat": 4,
 "nbformat_minor": 5
}
